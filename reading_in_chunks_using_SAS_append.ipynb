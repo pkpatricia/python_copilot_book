{
 "cells": [
  {
   "cell_type": "code",
   "execution_count": null,
   "metadata": {},
   "outputs": [],
   "source": [
    "import pandas as pd\n",
    "\n",
    "def read_sas_write_csv(sas_file_path, csv_file_path, chunksize=1000):\n",
    "    \"\"\"\n",
    "    Read a SAS file in chunks and write to a CSV file.\n",
    "\n",
    "    Parameters:\n",
    "    sas_file_path (str): Path to the SAS file.\n",
    "    csv_file_path (str): Path to the output CSV file.\n",
    "    chunksize (int): Number of rows per chunk.\n",
    "    \"\"\"\n",
    "    # Initialize the SAS file reader with a specified chunksize\n",
    "    sas_reader = pd.read_sas(sas_file_path, chunksize=chunksize, encoding='utf-8')\n",
    "\n",
    "    # Iterate over each chunk and append to the CSV file\n",
    "    for i, chunk in enumerate(sas_reader):\n",
    "        # Use mode 'a' to append; include header only for the first chunk\n",
    "        chunk.to_csv(csv_file_path, mode='a', header=(i == 0), index=False)\n",
    "\n",
    "# Example usage\n",
    "sas_file_path = 'path_to_your_sas_file.sas7bdat'\n",
    "csv_file_path = 'output_file.csv'\n",
    "read_sas_write_csv(sas_file_path, csv_file_path)"
   ]
  }
 ],
 "metadata": {
  "language_info": {
   "name": "python"
  }
 },
 "nbformat": 4,
 "nbformat_minor": 2
}
